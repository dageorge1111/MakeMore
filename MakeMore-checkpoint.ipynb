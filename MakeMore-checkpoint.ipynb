{
 "cells": [
  {
   "cell_type": "code",
   "execution_count": 1,
   "id": "86eeb580",
   "metadata": {},
   "outputs": [],
   "source": [
    "import torch\n",
    "import torch.nn.functional as f\n",
    "import matplotlib.pyplot as plt\n",
    "import numpy as np\n",
    "from sklearn.model_selection import train_test_split"
   ]
  },
  {
   "cell_type": "code",
   "execution_count": 2,
   "id": "a871628b",
   "metadata": {},
   "outputs": [],
   "source": [
    "names = open(r\"C:\\Users\\dageo\\Desktop\\Names_Makemore.txt\", \"r\").read().splitlines()\n",
    "train, testing = train_test_split(names, train_size = 0.8,test_size=0.2, random_state=42)\n",
    "test, dev = train_test_split(testing, train_size = 0.5,test_size=0.5, random_state=42)"
   ]
  },
  {
   "cell_type": "code",
   "execution_count": 3,
   "id": "a1404c8e",
   "metadata": {},
   "outputs": [],
   "source": [
    "chars = sorted(list(set(''.join(names))))"
   ]
  },
  {
   "cell_type": "code",
   "execution_count": 4,
   "id": "82e270d0",
   "metadata": {},
   "outputs": [],
   "source": [
    "stoi = {ch:i+1 for i,ch in enumerate(chars)}\n",
    "itos = {v: k for k, v in stoi.items()}\n",
    "stoi[\".\"] = 0\n",
    "itos[0] = \".\""
   ]
  },
  {
   "cell_type": "code",
   "execution_count": 5,
   "id": "e6090d16",
   "metadata": {},
   "outputs": [],
   "source": [
    "X,Y = [],[]\n",
    "\n",
    "block_size = 3\n",
    "\n",
    "for name in train[:]:\n",
    "    context = [[0]*block_size]\n",
    "    add = context[0]\n",
    "    X.append(add)\n",
    "    n = (name+\".\")\n",
    "    Y.append(stoi[n[0]])\n",
    "    for i in range(len(n)-1):\n",
    "        add = context[-1][1:]\n",
    "        add.append(stoi[n[i]])\n",
    "        X.append(add)\n",
    "        context.append(add)\n",
    "        Y.append(stoi[n[i+1]])\n",
    "\n",
    "X = torch.tensor(X)\n",
    "Y = torch.tensor(Y)"
   ]
  },
  {
   "cell_type": "code",
   "execution_count": 6,
   "id": "6c50aa2c",
   "metadata": {},
   "outputs": [
    {
     "data": {
      "text/plain": [
       "torch.Size([182497, 3])"
      ]
     },
     "execution_count": 6,
     "metadata": {},
     "output_type": "execute_result"
    }
   ],
   "source": [
    "X.shape"
   ]
  },
  {
   "cell_type": "code",
   "execution_count": 7,
   "id": "1e4545d7",
   "metadata": {},
   "outputs": [
    {
     "data": {
      "text/plain": [
       "torch.Size([182497])"
      ]
     },
     "execution_count": 7,
     "metadata": {},
     "output_type": "execute_result"
    }
   ],
   "source": [
    "Y.shape"
   ]
  },
  {
   "cell_type": "code",
   "execution_count": 8,
   "id": "f8d66b3e",
   "metadata": {},
   "outputs": [],
   "source": [
    "feature_size = 8\n",
    "tanhlayer_size = 100"
   ]
  },
  {
   "cell_type": "code",
   "execution_count": 9,
   "id": "8e4cb5b3",
   "metadata": {},
   "outputs": [],
   "source": [
    "C = torch.randn(27,feature_size)"
   ]
  },
  {
   "cell_type": "code",
   "execution_count": 10,
   "id": "f2d6d0b0",
   "metadata": {},
   "outputs": [],
   "source": [
    "W1 = torch.randn(feature_size*block_size,tanhlayer_size) * 0.1\n",
    "b1 = torch.randn(tanhlayer_size)*0.01"
   ]
  },
  {
   "cell_type": "code",
   "execution_count": 11,
   "id": "051504ba",
   "metadata": {},
   "outputs": [],
   "source": [
    "W2 = torch.randn(tanhlayer_size,feature_size*block_size) * 0.1\n",
    "b2 = torch.randn(27) * 0.01\n",
    "parameters = [C, W1, W2, b1, b2]"
   ]
  },
  {
   "cell_type": "code",
   "execution_count": 12,
   "id": "919fe7da",
   "metadata": {},
   "outputs": [
    {
     "data": {
      "text/plain": [
       "'\\nlogits = h @ W2 + b2\\ncounts = logits.exp()\\nprob = counts/counts.sum(dim = 1, keepdims=True)\\n'"
      ]
     },
     "execution_count": 12,
     "metadata": {},
     "output_type": "execute_result"
    }
   ],
   "source": [
    "\"\"\"\n",
    "logits = h @ W2 + b2\n",
    "counts = logits.exp()\n",
    "prob = counts/counts.sum(dim = 1, keepdims=True)\n",
    "\"\"\""
   ]
  },
  {
   "cell_type": "code",
   "execution_count": 13,
   "id": "28fe2ac9",
   "metadata": {},
   "outputs": [],
   "source": [
    "lrs = torch.linspace(0, -3, 1000)\n",
    "lre = 10**lrs"
   ]
  },
  {
   "cell_type": "code",
   "execution_count": 14,
   "id": "b2e2d248",
   "metadata": {},
   "outputs": [],
   "source": [
    "#requires grad\n",
    "for p in parameters:\n",
    "    p.requires_grad = True"
   ]
  },
  {
   "cell_type": "code",
   "execution_count": 15,
   "id": "6c2d9b27",
   "metadata": {},
   "outputs": [],
   "source": [
    "lossi = []"
   ]
  },
  {
   "cell_type": "code",
   "execution_count": 16,
   "id": "58df0de6",
   "metadata": {},
   "outputs": [
    {
     "name": "stdout",
     "output_type": "stream",
     "text": [
      "torch.Size([32, 24])\n"
     ]
    },
    {
     "ename": "RuntimeError",
     "evalue": "The size of tensor a (24) must match the size of tensor b (27) at non-singleton dimension 1",
     "output_type": "error",
     "traceback": [
      "\u001b[1;31m---------------------------------------------------------------------------\u001b[0m",
      "\u001b[1;31mRuntimeError\u001b[0m                              Traceback (most recent call last)",
      "\u001b[1;32m~\\AppData\\Local\\Temp/ipykernel_30840/580954438.py\u001b[0m in \u001b[0;36m<module>\u001b[1;34m\u001b[0m\n\u001b[0;32m     14\u001b[0m     \u001b[1;31m#construct logits\u001b[0m\u001b[1;33m\u001b[0m\u001b[1;33m\u001b[0m\u001b[0m\n\u001b[0;32m     15\u001b[0m     \u001b[0mprint\u001b[0m\u001b[1;33m(\u001b[0m\u001b[1;33m(\u001b[0m\u001b[0mh\u001b[0m\u001b[1;33m@\u001b[0m\u001b[0mW2\u001b[0m\u001b[1;33m)\u001b[0m\u001b[1;33m.\u001b[0m\u001b[0mshape\u001b[0m\u001b[1;33m)\u001b[0m\u001b[1;33m\u001b[0m\u001b[1;33m\u001b[0m\u001b[0m\n\u001b[1;32m---> 16\u001b[1;33m     \u001b[0mlogits\u001b[0m \u001b[1;33m=\u001b[0m \u001b[0mh\u001b[0m \u001b[1;33m@\u001b[0m \u001b[0mW2\u001b[0m \u001b[1;33m+\u001b[0m \u001b[0mb2\u001b[0m\u001b[1;33m\u001b[0m\u001b[1;33m\u001b[0m\u001b[0m\n\u001b[0m\u001b[0;32m     17\u001b[0m     \u001b[0mloss\u001b[0m \u001b[1;33m=\u001b[0m \u001b[0mf\u001b[0m\u001b[1;33m.\u001b[0m\u001b[0mcross_entropy\u001b[0m\u001b[1;33m(\u001b[0m\u001b[0mlogits\u001b[0m\u001b[1;33m,\u001b[0m \u001b[0mY\u001b[0m\u001b[1;33m[\u001b[0m\u001b[0mix\u001b[0m\u001b[1;33m]\u001b[0m\u001b[1;33m)\u001b[0m\u001b[1;33m\u001b[0m\u001b[1;33m\u001b[0m\u001b[0m\n\u001b[0;32m     18\u001b[0m \u001b[1;33m\u001b[0m\u001b[0m\n",
      "\u001b[1;31mRuntimeError\u001b[0m: The size of tensor a (24) must match the size of tensor b (27) at non-singleton dimension 1"
     ]
    }
   ],
   "source": [
    "\"\"\"\n",
    "l = []\n",
    "learn = []\n",
    "\"\"\"\n",
    "batch_size = 32\n",
    "steps = 100000\n",
    "for i in range(steps):\n",
    "    #forward pass\n",
    "    #construct minibatch\n",
    "    ix = torch.randint(0, X.shape[0], (batch_size,))\n",
    "    emb = C[X[ix]]\n",
    "    h = torch.tanh(emb.view(emb.shape[0],-1) @ W1 + b1)\n",
    "    \n",
    "    #construct logits\n",
    "    print((h@W2).shape)\n",
    "    logits = h @ W2 + b2\n",
    "    loss = f.cross_entropy(logits, Y[ix])\n",
    "    \n",
    "    #backward pass\n",
    "    for p in parameters:\n",
    "        p.grad = None\n",
    "    loss.backward()\n",
    "    lossi.append(loss.log10().item())\n",
    "    lr = 0.1 if i < 20000 else 0.01\n",
    "    for p in parameters:\n",
    "        p.data += -lr*p.grad\n",
    "    if(i%1000==0):\n",
    "        print(str(i) + \"/\" + str(steps) + \": \" + str(loss.item()))\n",
    "        \"\"\"\n",
    "        p.data += -lre[i]*p.grad\n",
    "        l.append(loss.item())\n",
    "        learn.append(lrs[i])\n",
    "        \"\"\""
   ]
  },
  {
   "cell_type": "code",
   "execution_count": null,
   "id": "385513fa",
   "metadata": {},
   "outputs": [],
   "source": [
    "#checking for oversaturated tanh (The output is 1 or -1 so there is minimal learning). White is a very active tanh neuron\n",
    "#completely white column is a dead neuron since no matter what is fed into the neuron gets set to 1\n",
    "#dead neuron never learns since the gradient is 0\n",
    "\n",
    "plt.figure(figsize = (20,10))\n",
    "plt.imshow(h.abs()>0.99,cmap = 'gray', interpolation = 'nearest')"
   ]
  },
  {
   "cell_type": "code",
   "execution_count": null,
   "id": "403e7e6f",
   "metadata": {},
   "outputs": [],
   "source": [
    "plt.plot(lossi)"
   ]
  },
  {
   "cell_type": "code",
   "execution_count": null,
   "id": "a14ff5ee",
   "metadata": {},
   "outputs": [],
   "source": [
    "emb = C[X]\n",
    "h = torch.tanh(emb.view(-1,24) @ W1 + b1)\n",
    "logits = h @ W2 + b2\n",
    "loss = f.cross_entropy(logits, Y)"
   ]
  },
  {
   "cell_type": "code",
   "execution_count": null,
   "id": "f371b522",
   "metadata": {},
   "outputs": [],
   "source": [
    "print(loss)"
   ]
  },
  {
   "cell_type": "code",
   "execution_count": 61,
   "id": "ef14d4ba",
   "metadata": {},
   "outputs": [],
   "source": [
    "X_dev,Y_dev = [],[]\n",
    "\n",
    "block_size = 3\n",
    "\n",
    "for name in dev[:]:\n",
    "    context = [[0]*block_size]\n",
    "    add = context[0]\n",
    "    X_dev.append(add)\n",
    "    n = (name+\".\")\n",
    "    Y_dev.append(stoi[n[0]])\n",
    "    for i in range(len(n)-1):\n",
    "        add = context[-1][1:]\n",
    "        add.append(stoi[n[i]])\n",
    "        X_dev.append(add)\n",
    "        context.append(add)\n",
    "        Y_dev.append(stoi[n[i+1]])\n",
    "\n",
    "X_dev = torch.tensor(X_dev)\n",
    "Y_dev = torch.tensor(Y_dev)"
   ]
  },
  {
   "cell_type": "code",
   "execution_count": 62,
   "id": "634a1a66",
   "metadata": {},
   "outputs": [],
   "source": [
    "emb = C[X_dev]\n",
    "h = torch.tanh(emb.view(-1,24) @ W1 + b1)\n",
    "logits = h @ W2 + b2\n",
    "loss = f.cross_entropy(logits, Y_dev)"
   ]
  },
  {
   "cell_type": "code",
   "execution_count": 63,
   "id": "f9a9d27e",
   "metadata": {},
   "outputs": [
    {
     "data": {
      "text/plain": [
       "tensor(2.1600, grad_fn=<NllLossBackward0>)"
      ]
     },
     "execution_count": 63,
     "metadata": {},
     "output_type": "execute_result"
    }
   ],
   "source": [
    "loss"
   ]
  },
  {
   "cell_type": "code",
   "execution_count": 66,
   "id": "bbcdbae6",
   "metadata": {},
   "outputs": [
    {
     "name": "stdout",
     "output_type": "stream",
     "text": [
      "irca.\n",
      "kaurd.\n",
      "zane.\n",
      "esmeri.\n",
      "han.\n",
      "keu.\n",
      "vivia.\n",
      "mana.\n",
      "baisia.\n",
      "azarie.\n",
      "demahile.\n",
      "domon.\n",
      "ozmana.\n",
      "majersiah.\n",
      "yaniel.\n",
      "daylanish.\n",
      "fla.\n",
      "renlee.\n",
      "waverick.\n",
      "raily.\n",
      "terrion.\n",
      "lyjahnevela.\n",
      "elianishand.\n",
      "elynn.\n",
      "yam.\n",
      "khamirielo.\n",
      "joumi.\n",
      "dreuge.\n",
      "hudoden.\n",
      "jamabrii.\n",
      "mellani.\n",
      "bran.\n",
      "roano.\n",
      "jous.\n",
      "ahmarie.\n",
      "sakidit.\n",
      "belke.\n",
      "sarin.\n",
      "hah.\n",
      "nale.\n",
      "jadon.\n",
      "hed.\n",
      "karrah.\n",
      "salennet.\n",
      "arson.\n",
      "arth.\n",
      "inna.\n",
      "samari.\n",
      "ruuta.\n",
      "chazana.\n",
      "asshalianaelaif.\n",
      "nice.\n",
      "fostandleeleyn.\n",
      "katite.\n",
      "javi.\n",
      "rowaristive.\n",
      "sadi.\n",
      "loly.\n",
      "keo.\n",
      "dechim.\n",
      "kenylener.\n",
      "aabroy.\n",
      "tisniyah.\n",
      "hude.\n",
      "anna.\n",
      "rayan.\n",
      "reages.\n",
      "kuna.\n",
      "ala.\n",
      "son.\n",
      "mulle.\n",
      "juen.\n",
      "lakimynn.\n",
      "araven.\n",
      "amakee.\n",
      "zhendial.\n",
      "yuem.\n",
      "emoran.\n",
      "sanzire.\n",
      "johneershaenus.\n",
      "harla.\n",
      "wymanusmarox.\n",
      "demotha.\n",
      "blabel.\n",
      "parmelis.\n",
      "chri.\n",
      "ana.\n",
      "azazaru.\n",
      "mulwen.\n",
      "jeita.\n",
      "kella.\n",
      "romer.\n",
      "jalazari.\n",
      "omyna.\n",
      "ketri.\n",
      "mamillariserab.\n",
      "dorie.\n",
      "islontarely.\n",
      "reslayna.\n",
      "rayah.\n"
     ]
    }
   ],
   "source": [
    "gen_names = []\n",
    "for _ in range(100):\n",
    "    out = []\n",
    "    context = [0]*block_size\n",
    "    while True:\n",
    "        emb = C[torch.tensor(context)]\n",
    "        h = torch.tanh(emb.view(1,-1) @ W1 + b1)\n",
    "        logits = h @ W2 + b2\n",
    "        probs = torch.softmax(logits, dim=1)\n",
    "        ix = torch.multinomial(probs, num_samples = 1).item()\n",
    "        context = context[1:] + [ix]\n",
    "        out.append(ix)\n",
    "        if(ix == 0):\n",
    "            break\n",
    "    print(''.join(itos[i] for i in out))\n",
    "    names.append(''.join(itos[i] for i in out))"
   ]
  },
  {
   "cell_type": "code",
   "execution_count": null,
   "id": "8357d14b",
   "metadata": {},
   "outputs": [],
   "source": [
    "for i in names:\n",
    "    if i[:-1] in train:\n",
    "        print(i)"
   ]
  },
  {
   "cell_type": "code",
   "execution_count": null,
   "id": "4547826a",
   "metadata": {},
   "outputs": [],
   "source": [
    "names[0][:-1]"
   ]
  },
  {
   "cell_type": "code",
   "execution_count": null,
   "id": "2a397987",
   "metadata": {},
   "outputs": [],
   "source": []
  }
 ],
 "metadata": {
  "kernelspec": {
   "display_name": "Python 3 (ipykernel)",
   "language": "python",
   "name": "python3"
  },
  "language_info": {
   "codemirror_mode": {
    "name": "ipython",
    "version": 3
   },
   "file_extension": ".py",
   "mimetype": "text/x-python",
   "name": "python",
   "nbconvert_exporter": "python",
   "pygments_lexer": "ipython3",
   "version": "3.9.7"
  }
 },
 "nbformat": 4,
 "nbformat_minor": 5
}
